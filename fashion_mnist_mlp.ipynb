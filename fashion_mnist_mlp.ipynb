{
 "cells": [
  {
   "cell_type": "code",
   "execution_count": 1,
   "metadata": {},
   "outputs": [
    {
     "name": "stderr",
     "output_type": "stream",
     "text": [
      "c:\\Users\\Jonas\\Desktop\\spass_mit_python\\.venv\\lib\\site-packages\\tqdm\\auto.py:22: TqdmWarning: IProgress not found. Please update jupyter and ipywidgets. See https://ipywidgets.readthedocs.io/en/stable/user_install.html\n",
      "  from .autonotebook import tqdm as notebook_tqdm\n"
     ]
    },
    {
     "data": {
      "image/png": "[encoded data removed]",
      "text/plain": [
       "<Figure size 576x576 with 9 Axes>"
      ]
     },
     "metadata": {
      "needs_background": "light"
     },
     "output_type": "display_data"
    }
   ],
   "source": [
    "from torch.utils.data import Dataset\n",
    "from torchvision import datasets\n",
    "from torchvision.transforms import ToTensor\n",
    "from src.common.vectorize import one_hot\n",
    "import matplotlib.pyplot as plt\n",
    "import numpy as np\n",
    "\n",
    "\n",
    "train_dataset = datasets.FashionMNIST(\n",
    "    root=\"data\",\n",
    "    train=True,\n",
    "    download=True,\n",
    "    transform=ToTensor()\n",
    ")\n",
    "\n",
    "test_dataset = datasets.FashionMNIST(\n",
    "    root=\"data\",\n",
    "    train=False,\n",
    "    download=True,\n",
    "    transform=ToTensor()\n",
    ")\n",
    "\n",
    "\n",
    "labels_map = {\n",
    "    0: \"T-Shirt\",\n",
    "    1: \"Trouser\",\n",
    "    2: \"Pullover\",\n",
    "    3: \"Dress\",\n",
    "    4: \"Coat\",\n",
    "    5: \"Sandal\",\n",
    "    6: \"Shirt\",\n",
    "    7: \"Sneaker\",\n",
    "    8: \"Bag\",\n",
    "    9: \"Ankle Boot\",\n",
    "}\n",
    "n_classes = len(labels_map)\n",
    "\n",
    "# to numpy representation\n",
    "sample_size = train_dataset[0][0].numel()\n",
    "sample_height, sample_width = 28, 28\n",
    "train_data = np.zeros((len(train_dataset), 1, sample_height, sample_width))\n",
    "train_labels = np.zeros(len(train_dataset), np.uint8)\n",
    "for ix, (tensor, label) in enumerate(train_dataset):\n",
    "    train_data[ix] = np.asarray(tensor).reshape((1, sample_height, sample_width))\n",
    "    train_labels[ix] = label\n",
    "train_labels_oh = one_hot(train_labels, n_classes)\n",
    "test_data = np.zeros((len(test_dataset), 1, sample_height, sample_width))\n",
    "test_labels = np.zeros(len(test_dataset), np.uint8)\n",
    "for ix, (tensor, label) in enumerate(test_dataset):\n",
    "    test_data[ix] = np.asarray(tensor).reshape((1, sample_height, sample_width))\n",
    "    test_labels[ix] = label\n",
    "\n",
    "figure = plt.figure(figsize=(8, 8))\n",
    "cols, rows = 3, 3\n",
    "for i in range(1, cols * rows + 1):\n",
    "    sample_idx = np.random.randint(0, len(train_dataset))\n",
    "    img, label = train_dataset[sample_idx]\n",
    "    figure.add_subplot(rows, cols, i)\n",
    "    plt.title(labels_map[label])\n",
    "    plt.axis(\"off\")\n",
    "    plt.imshow(img.squeeze(), cmap=\"gray\")\n",
    "plt.show()"
   ]
  },
  {
   "cell_type": "code",
   "execution_count": 2,
   "metadata": {},
   "outputs": [
    {
     "name": "stdout",
     "output_type": "stream",
     "text": [
      "Model: CNN\n"
     ]
    },
    {
     "name": "stderr",
     "output_type": "stream",
     "text": [
      "Training:   0%|          | 0/4 [00:00<?, ?epoch/s]"
     ]
    }
   ],
   "source": [
    "from src.neuronal_network.network import MLP, CNN\n",
    "from src.neuronal_network.activation import ReLU, SoftMax\n",
    "from src.neuronal_network.loss import CrossEntropy\n",
    "from src.common.vectorize import one_hot\n",
    "from src.neuronal_network.optimizer import Adam\n",
    "import numpy as np\n",
    "import tqdm\n",
    "\n",
    "\n",
    "# hyper params\n",
    "n_epochs = 4\n",
    "learning_rate = 0.001\n",
    "beta1 = 0.9\n",
    "beta2 = 0.999\n",
    "epsilon = 1e-7\n",
    "batch_size = 100\n",
    "\n",
    "\n",
    "# Model\n",
    "loss = CrossEntropy()\n",
    "optimizer = lambda: Adam(learning_rate, beta1, beta2, epsilon)\n",
    "cnn = CNN((sample_height, sample_width), n_classes, [(5,5)], [48,48], hidden_act=ReLU, output_act=SoftMax, optimizer=optimizer)\n",
    "\n",
    "print(f\"Model: {cnn}\")\n",
    "\n",
    "epoch_loss = np.zeros(n_epochs)\n",
    "epoch_acc  = np.zeros(n_epochs)\n",
    "epoch_weights = []\n",
    "\n",
    "# training\n",
    "with tqdm.tqdm(desc=\"Training\", unit=\"epoch\", total=n_epochs) as progress_bar:\n",
    "  for epoch in range(n_epochs):\n",
    "    perm = np.random.permutation(len(train_data))\n",
    "    batch_data = np.split(train_data[perm], len(train_data)//batch_size)\n",
    "    batch_labels = np.split(train_labels_oh[perm], len(train_labels_oh)//batch_size)\n",
    "\n",
    "    for data, labels in zip(batch_data, batch_labels):\n",
    "      pred = cnn.forward(data)\n",
    "      epoch_loss[epoch] += loss(pred, labels).sum()\n",
    "      cnn.fit()\n",
    "\n",
    "\n",
    "    epoch_acc[epoch] = sum(cnn.classify(test_data) == test_labels) / len(test_data)\n",
    "    progress_bar.set_postfix_str(f\"loss={epoch_loss[epoch]:.02f}, acc={epoch_acc[epoch]*100:.02f}%\")\n",
    "    progress_bar.update(1)\n",
    "\n",
    "\n",
    "# eval\n",
    "fig = plt.figure(figsize=(8, 8), dpi=80)\n",
    "fig.suptitle(str(cnn) + f\", {loss} loss\")\n",
    "ax = fig.subplots(1)\n",
    "ax.plot(epoch_loss, label=\"$\\Sigma$loss\", color=\"gray\")\n",
    "ax.set_xlabel(\"epoch\")\n",
    "ax_acc = ax.twinx()\n",
    "ax_acc.plot(epoch_acc, label=\"acc\", color=\"orange\")\n",
    "_ = fig.legend(loc=\"upper right\", bbox_to_anchor=(1,1), bbox_transform=ax_acc.transAxes)\n"
   ]
  },
  {
   "cell_type": "code",
   "execution_count": null,
   "metadata": {},
   "outputs": [
    {
     "ename": "NameError",
     "evalue": "name 'mlp' is not defined",
     "output_type": "error",
     "traceback": [
      "\u001b[1;31m---------------------------------------------------------------------------\u001b[0m",
      "\u001b[1;31mNameError\u001b[0m                                 Traceback (most recent call last)",
      "\u001b[1;32mc:\\Users\\Jonas\\Desktop\\spass_mit_python\\fashion_mnist_mlp.ipynb Cell 3'\u001b[0m in \u001b[0;36m<cell line: 1>\u001b[1;34m()\u001b[0m\n\u001b[1;32m----> <a href='vscode-notebook-cell:/c%3A/Users/Jonas/Desktop/spass_mit_python/fashion_mnist_mlp.ipynb#ch0000002?line=0'>1</a>\u001b[0m test_classified \u001b[39m=\u001b[39m mlp\u001b[39m.\u001b[39mclassify(conv2\u001b[39m.\u001b[39mforward(conv1\u001b[39m.\u001b[39mforward(test_data))\u001b[39m.\u001b[39mreshape(\u001b[39mlen\u001b[39m(test_data), \u001b[39m20\u001b[39m\u001b[39m*\u001b[39m\u001b[39m20\u001b[39m))\n\u001b[0;32m      <a href='vscode-notebook-cell:/c%3A/Users/Jonas/Desktop/spass_mit_python/fashion_mnist_mlp.ipynb#ch0000002?line=1'>2</a>\u001b[0m test_acc \u001b[39m=\u001b[39m \u001b[39msum\u001b[39m(test_classified \u001b[39m==\u001b[39m test_labels) \u001b[39m/\u001b[39m \u001b[39mlen\u001b[39m(test_data)\n\u001b[0;32m      <a href='vscode-notebook-cell:/c%3A/Users/Jonas/Desktop/spass_mit_python/fashion_mnist_mlp.ipynb#ch0000002?line=3'>4</a>\u001b[0m false_classified_ix \u001b[39m=\u001b[39m np\u001b[39m.\u001b[39mcompress(test_classified \u001b[39m!=\u001b[39m test_labels, np\u001b[39m.\u001b[39marange(\u001b[39mlen\u001b[39m(test_data)))\n",
      "\u001b[1;31mNameError\u001b[0m: name 'mlp' is not defined"
     ]
    }
   ],
   "source": [
    "test_classified = cnn.classify(test_data)\n",
    "test_acc = sum(test_classified == test_labels) / len(test_data)\n",
    "\n",
    "false_classified_ix = np.compress(test_classified != test_labels, np.arange(len(test_data)))\n",
    "\n",
    "figure = plt.figure(figsize=(8, 8))\n",
    "figure.suptitle(f\"Random selection of false classifications (Acc: {100*test_acc:.02f}%)\")\n",
    "figure.set_tight_layout(True)\n",
    "cols, rows = 3, 3\n",
    "for i in range(1, cols * rows + 1):\n",
    "    ix = false_classified_ix[np.random.randint(0, len(false_classified_ix))]\n",
    "    img, label = test_dataset[ix]\n",
    "    figure.add_subplot(rows, cols, i)\n",
    "    plt.title(f\"Pred: {labels_map[test_classified[ix]]}\\n Lable: {labels_map[label]}\")\n",
    "    plt.axis(\"off\")\n",
    "    plt.imshow(img.squeeze(), cmap=\"gray\")\n",
    "plt.show()"
   ]
  },
  {
   "cell_type": "code",
   "execution_count": null,
   "metadata": {},
   "outputs": [
    {
     "ename": "KeyboardInterrupt",
     "evalue": "",
     "output_type": "error",
     "traceback": [
      "\u001b[0;31m---------------------------------------------------------------------------\u001b[0m",
      "\u001b[0;31mKeyboardInterrupt\u001b[0m                         Traceback (most recent call last)",
      "\u001b[1;32m/home/jonas/Workspaces/python/spass_mit_python/fashion_mnist_mlp.ipynb Cell 4'\u001b[0m in \u001b[0;36m<cell line: 3>\u001b[0;34m()\u001b[0m\n\u001b[1;32m      <a href='vscode-notebook-cell:/home/jonas/Workspaces/python/spass_mit_python/fashion_mnist_mlp.ipynb#ch0000003?line=0'>1</a>\u001b[0m \u001b[39mfrom\u001b[39;00m \u001b[39mdatetime\u001b[39;00m \u001b[39mimport\u001b[39;00m datetime\n\u001b[1;32m      <a href='vscode-notebook-cell:/home/jonas/Workspaces/python/spass_mit_python/fashion_mnist_mlp.ipynb#ch0000003?line=1'>2</a>\u001b[0m timestamp \u001b[39m=\u001b[39m datetime\u001b[39m.\u001b[39mnow()\u001b[39m.\u001b[39mstrftime(\u001b[39m\"\u001b[39m\u001b[39m%\u001b[39m\u001b[39mY-\u001b[39m\u001b[39m%\u001b[39m\u001b[39mm-\u001b[39m\u001b[39m%d\u001b[39;00m\u001b[39m_\u001b[39m\u001b[39m%\u001b[39m\u001b[39mH-\u001b[39m\u001b[39m%\u001b[39m\u001b[39mM-\u001b[39m\u001b[39m%\u001b[39m\u001b[39mS\u001b[39m\u001b[39m\"\u001b[39m)\n\u001b[0;32m----> <a href='vscode-notebook-cell:/home/jonas/Workspaces/python/spass_mit_python/fashion_mnist_mlp.ipynb#ch0000003?line=2'>3</a>\u001b[0m mlp\u001b[39m.\u001b[39;49msave(\u001b[39mf\u001b[39;49m\u001b[39m\"\u001b[39;49m\u001b[39mmodel/fashion_mlp_\u001b[39;49m\u001b[39m{\u001b[39;49;00mtimestamp\u001b[39m}\u001b[39;49;00m\u001b[39m.pkl\u001b[39;49m\u001b[39m\"\u001b[39;49m)\n",
      "File \u001b[0;32m~/Workspaces/python/spass_mit_python/src/neuronal_network/network.py:51\u001b[0m, in \u001b[0;36mMLP.save\u001b[0;34m(self, fname)\u001b[0m\n\u001b[1;32m     49\u001b[0m \u001b[39mdef\u001b[39;00m \u001b[39msave\u001b[39m(\u001b[39mself\u001b[39m, fname : \u001b[39mstr\u001b[39m) \u001b[39m-\u001b[39m\u001b[39m>\u001b[39m \u001b[39mNone\u001b[39;00m:\n\u001b[1;32m     50\u001b[0m   \u001b[39mwith\u001b[39;00m \u001b[39mopen\u001b[39m(fname, mode\u001b[39m=\u001b[39m\u001b[39m'\u001b[39m\u001b[39mwb\u001b[39m\u001b[39m'\u001b[39m) \u001b[39mas\u001b[39;00m f:\n\u001b[0;32m---> 51\u001b[0m     pickle\u001b[39m.\u001b[39;49mdump(\u001b[39mself\u001b[39;49m, f)\n",
      "\u001b[0;31mKeyboardInterrupt\u001b[0m: "
     ]
    }
   ],
   "source": [
    "from datetime import datetime\n",
    "timestamp = datetime.now().strftime(\"%Y-%m-%d_%H-%M-%S\")\n",
    "mlp.save(f\"model/fashion_mlp_{timestamp}.pkl\")"
   ]
  }
 ],
 "metadata": {
  "interpreter": {
   "hash": "567ae071c75367e37bfff5d1256f78da7aa8d028ef6660edf1fede432799cc03"
  },
  "kernelspec": {
   "display_name": "Python 3.9.13 ('.venv': venv)",
   "language": "python",
   "name": "python3"
  },
  "language_info": {
   "codemirror_mode": {
    "name": "ipython",
    "version": 3
   },
   "file_extension": ".py",
   "mimetype": "text/x-python",
   "name": "python",
   "nbconvert_exporter": "python",
   "pygments_lexer": "ipython3",
   "version": "3.9.13"
  },
  "orig_nbformat": 4,
  "vscode": {
   "interpreter": {
    "hash": "8e145108259df274745577d7c600726c97a780b647505cb1aff333219e2a35ed"
   }
  }
 },
 "nbformat": 4,
 "nbformat_minor": 2
}
