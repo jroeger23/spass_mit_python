{
 "cells": [
  {
   "cell_type": "markdown",
   "metadata": {},
   "source": [
    "Load FashionMNIST Datasets"
   ]
  },
  {
   "cell_type": "code",
   "execution_count": 1,
   "metadata": {},
   "outputs": [
    {
     "name": "stdout",
     "output_type": "stream",
     "text": [
      "Using cuda device\n"
     ]
    }
   ],
   "source": [
    "import torch\n",
    "from torchvision import datasets, transforms\n",
    "\n",
    "device = \"cuda\" if torch.cuda.is_available() else \"cpu\"\n",
    "print(f\"Using {device} device\")\n",
    "\n",
    "train_data = datasets.FashionMNIST(root='data', train=True, download=True, transform=\n",
    "    transforms.Compose([\n",
    "        transforms.RandomHorizontalFlip(),\n",
    "        transforms.RandomCrop((28,28)),\n",
    "        transforms.ToTensor()\n",
    "    ])\n",
    ")\n",
    "test_data = datasets.FashionMNIST(root='data', train=False, download=True, transform=transforms.ToTensor())\n",
    "\n",
    "labels_map = {\n",
    "    0: \"T-Shirt\",\n",
    "    1: \"Trouser\",\n",
    "    2: \"Pullover\",\n",
    "    3: \"Dress\",\n",
    "    4: \"Coat\",\n",
    "    5: \"Sandal\",\n",
    "    6: \"Shirt\",\n",
    "    7: \"Sneaker\",\n",
    "    8: \"Bag\",\n",
    "    9: \"Ankle Boot\",\n",
    "}"
   ]
  },
  {
   "cell_type": "markdown",
   "metadata": {},
   "source": [
    "Define CNN Model"
   ]
  },
  {
   "cell_type": "code",
   "execution_count": 2,
   "metadata": {},
   "outputs": [
    {
     "name": "stdout",
     "output_type": "stream",
     "text": [
      "----------------------------------------------------------------\n",
      "        Layer (type)               Output Shape         Param #\n",
      "================================================================\n",
      "            Conv2d-1          [128, 64, 28, 28]             640\n",
      "              ReLU-2          [128, 64, 28, 28]               0\n",
      "            Conv2d-3          [128, 64, 28, 28]          36,928\n",
      "              ReLU-4          [128, 64, 28, 28]               0\n",
      "         MaxPool2d-5          [128, 64, 14, 14]               0\n",
      "       BatchNorm2d-6          [128, 64, 14, 14]             128\n",
      "            Conv2d-7          [128, 64, 14, 14]          36,928\n",
      "              ReLU-8          [128, 64, 14, 14]               0\n",
      "            Conv2d-9          [128, 64, 14, 14]          36,928\n",
      "             ReLU-10          [128, 64, 14, 14]               0\n",
      "           Conv2d-11          [128, 64, 14, 14]          36,928\n",
      "             ReLU-12          [128, 64, 14, 14]               0\n",
      "        MaxPool2d-13            [128, 64, 7, 7]               0\n",
      "      BatchNorm2d-14            [128, 64, 7, 7]             128\n",
      "          Flatten-15                [128, 3136]               0\n",
      "          Dropout-16                [128, 3136]               0\n",
      "           Linear-17                [128, 1028]       3,224,836\n",
      "             ReLU-18                [128, 1028]               0\n",
      "          Dropout-19                [128, 1028]               0\n",
      "           Linear-20                [128, 1028]       1,057,812\n",
      "             ReLU-21                [128, 1028]               0\n",
      "          Dropout-22                [128, 1028]               0\n",
      "           Linear-23                 [128, 512]         526,848\n",
      "             ReLU-24                 [128, 512]               0\n",
      "          Dropout-25                 [128, 512]               0\n",
      "           Linear-26                  [128, 10]           5,130\n",
      "         Identity-27                  [128, 10]               0\n",
      "================================================================\n",
      "Total params: 4,963,234\n",
      "Trainable params: 4,963,234\n",
      "Non-trainable params: 0\n",
      "----------------------------------------------------------------\n",
      "Input size (MB): 0.38\n",
      "Forward/backward pass size (MB): 313.79\n",
      "Params size (MB): 18.93\n",
      "Estimated Total Size (MB): 333.11\n",
      "----------------------------------------------------------------\n",
      "None\n"
     ]
    }
   ],
   "source": [
    "import torchsummary\n",
    "\n",
    "class BypassConvBlock(torch.nn.Module):\n",
    "  def __init__(self, channels):\n",
    "    super(BypassConvBlock, self).__init__()\n",
    "\n",
    "    self.conv_stack = torch.nn.Sequential(\n",
    "      torch.nn.Conv2d(in_channels=channels, out_channels=channels, kernel_size=(1,1)),\n",
    "      torch.nn.BatchNorm2d(channels),\n",
    "      torch.nn.ReLU(),\n",
    "      torch.nn.Conv2d(in_channels=channels, out_channels=channels, kernel_size=(3,3), padding=(1,1)),\n",
    "      torch.nn.BatchNorm2d(channels),\n",
    "      torch.nn.ReLU(),\n",
    "      torch.nn.Conv2d(in_channels=channels, out_channels=channels, kernel_size=(1,1)),\n",
    "      torch.nn.BatchNorm2d(channels),\n",
    "      torch.nn.ReLU(),\n",
    "    )\n",
    "\n",
    "    self.conv_bypass = torch.nn.Sequential(\n",
    "      torch.nn.Conv2d(in_channels=channels, out_channels=channels, kernel_size=(1,1)),\n",
    "      torch.nn.BatchNorm2d(channels),\n",
    "    )\n",
    "\n",
    "    self.act = torch.nn.ReLU()\n",
    "\n",
    "  def forward(self, x):\n",
    "    a = self.conv_stack(x)\n",
    "    b = self.conv_bypass(x)\n",
    "    return self.act(a + b)\n",
    "\n",
    "\n",
    "class CNN(torch.nn.Module):\n",
    "  def __init__(self):\n",
    "    super(CNN, self).__init__()\n",
    "\n",
    "    self.conv0_stack = torch.nn.Sequential(\n",
    "      torch.nn.Conv2d(in_channels=1, out_channels=64, kernel_size=(3,3), padding=(1,1)),\n",
    "      torch.nn.ReLU(),\n",
    "      torch.nn.Conv2d(in_channels=64, out_channels=64, kernel_size=(3,3), padding=(1,1)),\n",
    "      torch.nn.ReLU(),\n",
    "      torch.nn.MaxPool2d(kernel_size=(2,2), stride=2),\n",
    "      torch.nn.BatchNorm2d(64),\n",
    "      torch.nn.Conv2d(in_channels=64, out_channels=64, kernel_size=(3,3), padding=(1,1)),\n",
    "      torch.nn.ReLU(),\n",
    "      torch.nn.Conv2d(in_channels=64, out_channels=64, kernel_size=(3,3), padding=(1,1)),\n",
    "      torch.nn.ReLU(),\n",
    "      torch.nn.Conv2d(in_channels=64, out_channels=64, kernel_size=(3,3), padding=(1,1)),\n",
    "      torch.nn.ReLU(),\n",
    "      torch.nn.MaxPool2d(kernel_size=(2,2), stride=2),\n",
    "      torch.nn.BatchNorm2d(64),\n",
    "    )\n",
    "\n",
    "    self.flatten_stack = torch.nn.Flatten()\n",
    "\n",
    "    output_activation = torch.nn.Identity() if self.training else torch.nn.LogSoftmax()\n",
    "\n",
    "    self.fc_stack = torch.nn.Sequential(\n",
    "      torch.nn.Dropout(),\n",
    "      torch.nn.Linear(in_features=64*7*7, out_features=1028),\n",
    "      torch.nn.ReLU(),\n",
    "      torch.nn.Dropout(),\n",
    "      torch.nn.Linear(in_features=1028, out_features=1028),\n",
    "      torch.nn.ReLU(),\n",
    "      torch.nn.Dropout(),\n",
    "      torch.nn.Linear(in_features=1028, out_features=512),\n",
    "      torch.nn.ReLU(),\n",
    "      torch.nn.Dropout(),\n",
    "      torch.nn.Linear(in_features=512, out_features=10),\n",
    "      output_activation\n",
    "    )\n",
    "\n",
    "  def forward(self, x):\n",
    "    conv_y = self.conv0_stack(x)\n",
    "\n",
    "    return self.fc_stack(self.flatten_stack(conv_y))\n",
    "\n",
    "\n",
    "model = CNN().to(device)\n",
    "print(torchsummary.summary(model=model, input_size=(1,28,28), batch_size=128))"
   ]
  },
  {
   "cell_type": "markdown",
   "metadata": {},
   "source": [
    "Training"
   ]
  },
  {
   "cell_type": "code",
   "execution_count": 3,
   "metadata": {},
   "outputs": [
    {
     "data": {
      "application/vnd.jupyter.widget-view+json": {
       "model_id": "e327a979d8b14191bdd0944c00f5ca59",
       "version_major": 2,
       "version_minor": 0
      },
      "text/plain": [
       "Training Epochs:   0%|          | 0/20 [00:00<?, ?epoch/s]"
      ]
     },
     "metadata": {},
     "output_type": "display_data"
    },
    {
     "data": {
      "application/vnd.jupyter.widget-view+json": {
       "model_id": "386b1ec5271e446d89918508296365c3",
       "version_major": 2,
       "version_minor": 0
      },
      "text/plain": [
       "Epoch:   0%|          | 0/469 [00:00<?, ?batch/s]"
      ]
     },
     "metadata": {},
     "output_type": "display_data"
    },
    {
     "data": {
      "application/vnd.jupyter.widget-view+json": {
       "model_id": "cbaffa839b5149d8850652032d73b6dd",
       "version_major": 2,
       "version_minor": 0
      },
      "text/plain": [
       "Test:   0%|          | 0/79 [00:00<?, ?batch/s]"
      ]
     },
     "metadata": {},
     "output_type": "display_data"
    },
    {
     "data": {
      "application/vnd.jupyter.widget-view+json": {
       "model_id": "97ec53ef053f41be847fdfd14f6a38b7",
       "version_major": 2,
       "version_minor": 0
      },
      "text/plain": [
       "Epoch:   0%|          | 0/469 [00:00<?, ?batch/s]"
      ]
     },
     "metadata": {},
     "output_type": "display_data"
    },
    {
     "data": {
      "application/vnd.jupyter.widget-view+json": {
       "model_id": "40af4ec1ce20435bbcedb246f6ce71d2",
       "version_major": 2,
       "version_minor": 0
      },
      "text/plain": [
       "Test:   0%|          | 0/79 [00:00<?, ?batch/s]"
      ]
     },
     "metadata": {},
     "output_type": "display_data"
    },
    {
     "data": {
      "application/vnd.jupyter.widget-view+json": {
       "model_id": "28b976eac3754f98a777e9ad7419349c",
       "version_major": 2,
       "version_minor": 0
      },
      "text/plain": [
       "Epoch:   0%|          | 0/469 [00:00<?, ?batch/s]"
      ]
     },
     "metadata": {},
     "output_type": "display_data"
    },
    {
     "data": {
      "application/vnd.jupyter.widget-view+json": {
       "model_id": "d70754616e1f4815a29dd69f7e8be4ba",
       "version_major": 2,
       "version_minor": 0
      },
      "text/plain": [
       "Test:   0%|          | 0/79 [00:00<?, ?batch/s]"
      ]
     },
     "metadata": {},
     "output_type": "display_data"
    },
    {
     "data": {
      "application/vnd.jupyter.widget-view+json": {
       "model_id": "6971f54f32a541e6a29ef86fe955c2eb",
       "version_major": 2,
       "version_minor": 0
      },
      "text/plain": [
       "Epoch:   0%|          | 0/469 [00:00<?, ?batch/s]"
      ]
     },
     "metadata": {},
     "output_type": "display_data"
    },
    {
     "data": {
      "application/vnd.jupyter.widget-view+json": {
       "model_id": "b559bbb2735b482eb74dc3b3ba5eb9f9",
       "version_major": 2,
       "version_minor": 0
      },
      "text/plain": [
       "Test:   0%|          | 0/79 [00:00<?, ?batch/s]"
      ]
     },
     "metadata": {},
     "output_type": "display_data"
    },
    {
     "data": {
      "application/vnd.jupyter.widget-view+json": {
       "model_id": "946e3a196c634457acfce861e07cf734",
       "version_major": 2,
       "version_minor": 0
      },
      "text/plain": [
       "Epoch:   0%|          | 0/469 [00:00<?, ?batch/s]"
      ]
     },
     "metadata": {},
     "output_type": "display_data"
    },
    {
     "data": {
      "application/vnd.jupyter.widget-view+json": {
       "model_id": "94d24578e8684246a542ed9d94dbe32f",
       "version_major": 2,
       "version_minor": 0
      },
      "text/plain": [
       "Test:   0%|          | 0/79 [00:00<?, ?batch/s]"
      ]
     },
     "metadata": {},
     "output_type": "display_data"
    },
    {
     "data": {
      "application/vnd.jupyter.widget-view+json": {
       "model_id": "78362376ace44d9ca95773a5191a4659",
       "version_major": 2,
       "version_minor": 0
      },
      "text/plain": [
       "Epoch:   0%|          | 0/469 [00:00<?, ?batch/s]"
      ]
     },
     "metadata": {},
     "output_type": "display_data"
    },
    {
     "data": {
      "application/vnd.jupyter.widget-view+json": {
       "model_id": "b58841f585234e8f8a35f5f470faeb87",
       "version_major": 2,
       "version_minor": 0
      },
      "text/plain": [
       "Test:   0%|          | 0/79 [00:00<?, ?batch/s]"
      ]
     },
     "metadata": {},
     "output_type": "display_data"
    },
    {
     "data": {
      "application/vnd.jupyter.widget-view+json": {
       "model_id": "cc80fc7768c5422d83ee92809a492202",
       "version_major": 2,
       "version_minor": 0
      },
      "text/plain": [
       "Epoch:   0%|          | 0/469 [00:00<?, ?batch/s]"
      ]
     },
     "metadata": {},
     "output_type": "display_data"
    },
    {
     "data": {
      "application/vnd.jupyter.widget-view+json": {
       "model_id": "cb3e62681f6147c3a01ec733f4a73ba4",
       "version_major": 2,
       "version_minor": 0
      },
      "text/plain": [
       "Test:   0%|          | 0/79 [00:00<?, ?batch/s]"
      ]
     },
     "metadata": {},
     "output_type": "display_data"
    },
    {
     "data": {
      "application/vnd.jupyter.widget-view+json": {
       "model_id": "a1763da3d9ad475e9aa3d9a6ef1fd11d",
       "version_major": 2,
       "version_minor": 0
      },
      "text/plain": [
       "Epoch:   0%|          | 0/469 [00:00<?, ?batch/s]"
      ]
     },
     "metadata": {},
     "output_type": "display_data"
    },
    {
     "data": {
      "application/vnd.jupyter.widget-view+json": {
       "model_id": "da96860e8fc74cf78a974df295f190cf",
       "version_major": 2,
       "version_minor": 0
      },
      "text/plain": [
       "Test:   0%|          | 0/79 [00:00<?, ?batch/s]"
      ]
     },
     "metadata": {},
     "output_type": "display_data"
    },
    {
     "data": {
      "application/vnd.jupyter.widget-view+json": {
       "model_id": "5f0545310eea4953b45ac0b23348296b",
       "version_major": 2,
       "version_minor": 0
      },
      "text/plain": [
       "Epoch:   0%|          | 0/469 [00:00<?, ?batch/s]"
      ]
     },
     "metadata": {},
     "output_type": "display_data"
    },
    {
     "data": {
      "application/vnd.jupyter.widget-view+json": {
       "model_id": "7b7175e903424efa94a49fd9dcdd480d",
       "version_major": 2,
       "version_minor": 0
      },
      "text/plain": [
       "Test:   0%|          | 0/79 [00:00<?, ?batch/s]"
      ]
     },
     "metadata": {},
     "output_type": "display_data"
    },
    {
     "data": {
      "application/vnd.jupyter.widget-view+json": {
       "model_id": "2da4bd05a30647b5a5a65b9e9918e376",
       "version_major": 2,
       "version_minor": 0
      },
      "text/plain": [
       "Epoch:   0%|          | 0/469 [00:00<?, ?batch/s]"
      ]
     },
     "metadata": {},
     "output_type": "display_data"
    },
    {
     "data": {
      "application/vnd.jupyter.widget-view+json": {
       "model_id": "1eea6d1cc78b4a159668d3e0d3e8449f",
       "version_major": 2,
       "version_minor": 0
      },
      "text/plain": [
       "Test:   0%|          | 0/79 [00:00<?, ?batch/s]"
      ]
     },
     "metadata": {},
     "output_type": "display_data"
    },
    {
     "data": {
      "application/vnd.jupyter.widget-view+json": {
       "model_id": "0db0679917684eaeaea5ce72eb4aee2a",
       "version_major": 2,
       "version_minor": 0
      },
      "text/plain": [
       "Epoch:   0%|          | 0/469 [00:00<?, ?batch/s]"
      ]
     },
     "metadata": {},
     "output_type": "display_data"
    },
    {
     "data": {
      "application/vnd.jupyter.widget-view+json": {
       "model_id": "8b9a170a0ced40039806d674a595cba9",
       "version_major": 2,
       "version_minor": 0
      },
      "text/plain": [
       "Test:   0%|          | 0/79 [00:00<?, ?batch/s]"
      ]
     },
     "metadata": {},
     "output_type": "display_data"
    },
    {
     "data": {
      "application/vnd.jupyter.widget-view+json": {
       "model_id": "a97af63512b1484c8a87d6866c01c844",
       "version_major": 2,
       "version_minor": 0
      },
      "text/plain": [
       "Epoch:   0%|          | 0/469 [00:00<?, ?batch/s]"
      ]
     },
     "metadata": {},
     "output_type": "display_data"
    },
    {
     "data": {
      "application/vnd.jupyter.widget-view+json": {
       "model_id": "25866bbd74814259b746e297c0335711",
       "version_major": 2,
       "version_minor": 0
      },
      "text/plain": [
       "Test:   0%|          | 0/79 [00:00<?, ?batch/s]"
      ]
     },
     "metadata": {},
     "output_type": "display_data"
    },
    {
     "data": {
      "application/vnd.jupyter.widget-view+json": {
       "model_id": "8d93885c927c4f7692d17791cd56d51a",
       "version_major": 2,
       "version_minor": 0
      },
      "text/plain": [
       "Epoch:   0%|          | 0/469 [00:00<?, ?batch/s]"
      ]
     },
     "metadata": {},
     "output_type": "display_data"
    },
    {
     "data": {
      "application/vnd.jupyter.widget-view+json": {
       "model_id": "25a029e8aec048d4a9bfdd5537b07fb0",
       "version_major": 2,
       "version_minor": 0
      },
      "text/plain": [
       "Test:   0%|          | 0/79 [00:00<?, ?batch/s]"
      ]
     },
     "metadata": {},
     "output_type": "display_data"
    },
    {
     "data": {
      "application/vnd.jupyter.widget-view+json": {
       "model_id": "219a5c3de0024935a68ae094af1b363d",
       "version_major": 2,
       "version_minor": 0
      },
      "text/plain": [
       "Epoch:   0%|          | 0/469 [00:00<?, ?batch/s]"
      ]
     },
     "metadata": {},
     "output_type": "display_data"
    },
    {
     "data": {
      "application/vnd.jupyter.widget-view+json": {
       "model_id": "9ad47edce9334edb8fd2e288f677ba5b",
       "version_major": 2,
       "version_minor": 0
      },
      "text/plain": [
       "Test:   0%|          | 0/79 [00:00<?, ?batch/s]"
      ]
     },
     "metadata": {},
     "output_type": "display_data"
    },
    {
     "data": {
      "application/vnd.jupyter.widget-view+json": {
       "model_id": "2a486ada7fc94a83baf8ba8f091461e4",
       "version_major": 2,
       "version_minor": 0
      },
      "text/plain": [
       "Epoch:   0%|          | 0/469 [00:00<?, ?batch/s]"
      ]
     },
     "metadata": {},
     "output_type": "display_data"
    },
    {
     "data": {
      "application/vnd.jupyter.widget-view+json": {
       "model_id": "33285409235e475db5fd2b7b9ecc49a9",
       "version_major": 2,
       "version_minor": 0
      },
      "text/plain": [
       "Test:   0%|          | 0/79 [00:00<?, ?batch/s]"
      ]
     },
     "metadata": {},
     "output_type": "display_data"
    },
    {
     "data": {
      "application/vnd.jupyter.widget-view+json": {
       "model_id": "8c73cc973d5a4ee5aa7ede01d1f5dd0a",
       "version_major": 2,
       "version_minor": 0
      },
      "text/plain": [
       "Epoch:   0%|          | 0/469 [00:00<?, ?batch/s]"
      ]
     },
     "metadata": {},
     "output_type": "display_data"
    },
    {
     "data": {
      "application/vnd.jupyter.widget-view+json": {
       "model_id": "73d5e4904de34105a1a76445b9ef4dca",
       "version_major": 2,
       "version_minor": 0
      },
      "text/plain": [
       "Test:   0%|          | 0/79 [00:00<?, ?batch/s]"
      ]
     },
     "metadata": {},
     "output_type": "display_data"
    },
    {
     "data": {
      "application/vnd.jupyter.widget-view+json": {
       "model_id": "bfe5bf8e741b46319c5a1e696620c32a",
       "version_major": 2,
       "version_minor": 0
      },
      "text/plain": [
       "Epoch:   0%|          | 0/469 [00:00<?, ?batch/s]"
      ]
     },
     "metadata": {},
     "output_type": "display_data"
    },
    {
     "data": {
      "application/vnd.jupyter.widget-view+json": {
       "model_id": "58d762309c57423a976f6cad28c2fb66",
       "version_major": 2,
       "version_minor": 0
      },
      "text/plain": [
       "Test:   0%|          | 0/79 [00:00<?, ?batch/s]"
      ]
     },
     "metadata": {},
     "output_type": "display_data"
    },
    {
     "data": {
      "application/vnd.jupyter.widget-view+json": {
       "model_id": "ca13360aa6864661a727f29734e3d3dd",
       "version_major": 2,
       "version_minor": 0
      },
      "text/plain": [
       "Epoch:   0%|          | 0/469 [00:00<?, ?batch/s]"
      ]
     },
     "metadata": {},
     "output_type": "display_data"
    },
    {
     "data": {
      "application/vnd.jupyter.widget-view+json": {
       "model_id": "73d4f829f0ac4917b1d9b671f460a68a",
       "version_major": 2,
       "version_minor": 0
      },
      "text/plain": [
       "Test:   0%|          | 0/79 [00:00<?, ?batch/s]"
      ]
     },
     "metadata": {},
     "output_type": "display_data"
    },
    {
     "data": {
      "application/vnd.jupyter.widget-view+json": {
       "model_id": "9be365f3d2bb44229be4259cfe6f65be",
       "version_major": 2,
       "version_minor": 0
      },
      "text/plain": [
       "Epoch:   0%|          | 0/469 [00:00<?, ?batch/s]"
      ]
     },
     "metadata": {},
     "output_type": "display_data"
    },
    {
     "data": {
      "application/vnd.jupyter.widget-view+json": {
       "model_id": "8f3009b10631450bb40d0f216f1bb0d6",
       "version_major": 2,
       "version_minor": 0
      },
      "text/plain": [
       "Test:   0%|          | 0/79 [00:00<?, ?batch/s]"
      ]
     },
     "metadata": {},
     "output_type": "display_data"
    },
    {
     "data": {
      "application/vnd.jupyter.widget-view+json": {
       "model_id": "bba7dde2dbee4a659841e0697edf555e",
       "version_major": 2,
       "version_minor": 0
      },
      "text/plain": [
       "Epoch:   0%|          | 0/469 [00:00<?, ?batch/s]"
      ]
     },
     "metadata": {},
     "output_type": "display_data"
    },
    {
     "data": {
      "application/vnd.jupyter.widget-view+json": {
       "model_id": "abb0f77059ad484e832b93eb5aed1c06",
       "version_major": 2,
       "version_minor": 0
      },
      "text/plain": [
       "Test:   0%|          | 0/79 [00:00<?, ?batch/s]"
      ]
     },
     "metadata": {},
     "output_type": "display_data"
    }
   ],
   "source": [
    "from torch.utils.tensorboard import SummaryWriter\n",
    "import torch.nn.functional as F\n",
    "from tqdm.notebook import tqdm\n",
    "from src.common.plot import plotImagesProbBar\n",
    "import matplotlib.pyplot as plt\n",
    "\n",
    "\n",
    "train_loader = torch.utils.data.DataLoader(train_data, batch_size=128, shuffle=True)\n",
    "test_loader = torch.utils.data.DataLoader(test_data, batch_size=128, shuffle=False)\n",
    "\n",
    "optimizer = torch.optim.Adam(model.parameters())\n",
    "loss_function = torch.nn.CrossEntropyLoss()\n",
    "\n",
    "writer = SummaryWriter()\n",
    "\n",
    "def trainEpoch():\n",
    "  epoch_loss, epoch_acc = 0, 0\n",
    "\n",
    "  with tqdm(train_loader, desc=\"Epoch\", unit=\"batch\", position=1, leave=False) as bar:\n",
    "    for X, y in bar:\n",
    "      X = X.to(device)\n",
    "      y = y.to(device)\n",
    "      pred = model(X)\n",
    "      loss = loss_function(pred, y)\n",
    "      epoch_loss += loss.mean().item()\n",
    "      epoch_acc += (pred.argmax(1) == y).type(torch.float).sum().item()\n",
    "      optimizer.zero_grad()\n",
    "      loss.backward()\n",
    "      optimizer.step()\n",
    "\n",
    "  return epoch_loss / len(train_loader.dataset), epoch_acc / len(train_loader.dataset)\n",
    "\n",
    "\n",
    "def evalEpoch():\n",
    "  batch_labels, batch_probs, batch_preds, batch_loss = [], [], [], []\n",
    "\n",
    "  with torch.no_grad():\n",
    "    for X, y in tqdm(test_loader, desc=\"Test\", unit=\"batch\", position=1, leave=False):\n",
    "      X = X.to(device)\n",
    "      y = y.to(device)\n",
    "      out = model(X)\n",
    "      batch_pred = out.argmax(1)\n",
    "      batch_probs.append(F.softmax(out, dim=1))\n",
    "      batch_labels.append(y)\n",
    "      batch_preds.append(batch_pred)\n",
    "      batch_loss.append(F.cross_entropy(F.log_softmax(out, dim=1), y, reduction='none'))\n",
    "\n",
    "  test_probs = torch.cat(batch_probs, dim=0)\n",
    "  test_loss = torch.cat(batch_loss)\n",
    "  test_labels = torch.cat(batch_labels)\n",
    "  test_preds = torch.cat(batch_preds)\n",
    "  return test_loss, test_probs, test_preds, test_labels\n",
    "\n",
    "writer.add_graph(model, next(iter(test_loader))[0].to(device))\n",
    "\n",
    "with tqdm(range(1,21), desc=\"Training Epochs\", unit=\"epoch\", position=0) as bar:\n",
    "  for i in bar:\n",
    "    train_loss, train_acc = trainEpoch()\n",
    "    test_loss,  test_probs, test_preds, test_labels = evalEpoch()\n",
    "    test_acc = (test_preds == test_labels).type(torch.float).mean().item()\n",
    "    writer.add_scalars(\"Loss\", {'train_loss': train_loss, 'test_loss' : test_loss.mean().item()}, i)\n",
    "    writer.add_scalars(\"Accuracy\", {'train_acc': train_acc, 'test_acc' : test_acc}, i)\n",
    "\n",
    "    # add pr curve\n",
    "    for c_i in range(10):\n",
    "      labels = test_labels == c_i\n",
    "      probs = test_probs[:, c_i]\n",
    "      writer.add_pr_curve(labels_map[c_i], labels, probs, i)\n",
    "\n",
    "    # add worst classifications\n",
    "    worst_ix = torch.topk(test_loss, k=15)[1]\n",
    "    fig = plotImagesProbBar(\n",
    "      test_data.data[worst_ix],\n",
    "      test_labels[worst_ix],\n",
    "      test_preds[worst_ix],\n",
    "      test_probs[worst_ix],\n",
    "      labels_map, 5, 3\n",
    "    )\n",
    "    writer.add_figure(\"Worst Predictions\", fig, i)\n",
    "\n",
    "    # add hightest uncertaincy classifications\n",
    "    test_entropy = torch.sum(test_probs * torch.log(test_probs), dim=1)\n",
    "    le_ix = torch.topk(test_entropy, k=15, largest=False)[1]\n",
    "    fig = plotImagesProbBar(\n",
    "      test_data.data[le_ix],\n",
    "      test_labels[le_ix],\n",
    "      test_preds[le_ix],\n",
    "      test_probs[le_ix],\n",
    "      labels_map, 5, 3\n",
    "    )\n",
    "    writer.add_figure(\"Lowest entropy predictions\", fig, i)\n",
    "\n",
    "    bar.set_postfix_str(f\"TrainLoss={train_loss:.03e} TestAcc={test_acc*100:.02f}%\")\n",
    "\n",
    "writer.close()"
   ]
  }
 ],
 "metadata": {
  "kernelspec": {
   "display_name": "Python 3.9.13 ('.venv': venv)",
   "language": "python",
   "name": "python3"
  },
  "language_info": {
   "codemirror_mode": {
    "name": "ipython",
    "version": 3
   },
   "file_extension": ".py",
   "mimetype": "text/x-python",
   "name": "python",
   "nbconvert_exporter": "python",
   "pygments_lexer": "ipython3",
   "version": "3.9.13"
  },
  "orig_nbformat": 4,
  "vscode": {
   "interpreter": {
    "hash": "567ae071c75367e37bfff5d1256f78da7aa8d028ef6660edf1fede432799cc03"
   }
  }
 },
 "nbformat": 4,
 "nbformat_minor": 2
}
