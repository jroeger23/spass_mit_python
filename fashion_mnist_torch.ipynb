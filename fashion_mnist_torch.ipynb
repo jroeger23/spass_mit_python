{
 "cells": [
  {
   "cell_type": "markdown",
   "metadata": {},
   "source": [
    "Load FashionMNIST Datasets"
   ]
  },
  {
   "cell_type": "code",
   "execution_count": 10,
   "metadata": {},
   "outputs": [
    {
     "name": "stdout",
     "output_type": "stream",
     "text": [
      "Using cuda device\n"
     ]
    }
   ],
   "source": [
    "import torch\n",
    "from torchvision import datasets, transforms\n",
    "\n",
    "device = \"cuda\" if torch.cuda.is_available() else \"cpu\"\n",
    "print(f\"Using {device} device\")\n",
    "\n",
    "train_data = datasets.FashionMNIST(root='data', train=True, download=True, transform=\n",
    "    transforms.Compose([\n",
    "        transforms.RandomHorizontalFlip(),\n",
    "        transforms.RandomCrop((28,28)),\n",
    "        transforms.ToTensor()\n",
    "    ])\n",
    ")\n",
    "test_data = datasets.FashionMNIST(root='data', train=False, download=True, transform=transforms.ToTensor())\n",
    "\n",
    "labels_map = {\n",
    "    0: \"T-Shirt\",\n",
    "    1: \"Trouser\",\n",
    "    2: \"Pullover\",\n",
    "    3: \"Dress\",\n",
    "    4: \"Coat\",\n",
    "    5: \"Sandal\",\n",
    "    6: \"Shirt\",\n",
    "    7: \"Sneaker\",\n",
    "    8: \"Bag\",\n",
    "    9: \"Ankle Boot\",\n",
    "}"
   ]
  },
  {
   "cell_type": "markdown",
   "metadata": {},
   "source": [
    "Define CNN Model"
   ]
  },
  {
   "cell_type": "code",
   "execution_count": 11,
   "metadata": {},
   "outputs": [
    {
     "name": "stdout",
     "output_type": "stream",
     "text": [
      "----------------------------------------------------------------\n",
      "        Layer (type)               Output Shape         Param #\n",
      "================================================================\n",
      "            Conv2d-1          [128, 64, 28, 28]             640\n",
      "              ReLU-2          [128, 64, 28, 28]               0\n",
      "            Conv2d-3          [128, 64, 28, 28]          36,928\n",
      "              ReLU-4          [128, 64, 28, 28]               0\n",
      "         MaxPool2d-5          [128, 64, 14, 14]               0\n",
      "       BatchNorm2d-6          [128, 64, 14, 14]             128\n",
      "            Conv2d-7          [128, 64, 14, 14]          36,928\n",
      "              ReLU-8          [128, 64, 14, 14]               0\n",
      "            Conv2d-9          [128, 64, 14, 14]          36,928\n",
      "             ReLU-10          [128, 64, 14, 14]               0\n",
      "           Conv2d-11          [128, 64, 14, 14]          36,928\n",
      "             ReLU-12          [128, 64, 14, 14]               0\n",
      "        MaxPool2d-13            [128, 64, 7, 7]               0\n",
      "      BatchNorm2d-14            [128, 64, 7, 7]             128\n",
      "          Flatten-15                [128, 3136]               0\n",
      "          Dropout-16                [128, 3136]               0\n",
      "           Linear-17                [128, 1028]       3,224,836\n",
      "             ReLU-18                [128, 1028]               0\n",
      "          Dropout-19                [128, 1028]               0\n",
      "           Linear-20                [128, 1028]       1,057,812\n",
      "             ReLU-21                [128, 1028]               0\n",
      "          Dropout-22                [128, 1028]               0\n",
      "           Linear-23                 [128, 512]         526,848\n",
      "             ReLU-24                 [128, 512]               0\n",
      "          Dropout-25                 [128, 512]               0\n",
      "           Linear-26                  [128, 10]           5,130\n",
      "         Identity-27                  [128, 10]               0\n",
      "================================================================\n",
      "Total params: 4,963,234\n",
      "Trainable params: 4,963,234\n",
      "Non-trainable params: 0\n",
      "----------------------------------------------------------------\n",
      "Input size (MB): 0.38\n",
      "Forward/backward pass size (MB): 313.79\n",
      "Params size (MB): 18.93\n",
      "Estimated Total Size (MB): 333.11\n",
      "----------------------------------------------------------------\n",
      "None\n"
     ]
    }
   ],
   "source": [
    "import torchsummary\n",
    "\n",
    "class BypassConvBlock(torch.nn.Module):\n",
    "  def __init__(self, channels):\n",
    "    super(BypassConvBlock, self).__init__()\n",
    "\n",
    "    self.conv_stack = torch.nn.Sequential(\n",
    "      torch.nn.Conv2d(in_channels=channels, out_channels=channels, kernel_size=(1,1)),\n",
    "      torch.nn.BatchNorm2d(channels),\n",
    "      torch.nn.ReLU(),\n",
    "      torch.nn.Conv2d(in_channels=channels, out_channels=channels, kernel_size=(3,3), padding=(1,1)),\n",
    "      torch.nn.BatchNorm2d(channels),\n",
    "      torch.nn.ReLU(),\n",
    "      torch.nn.Conv2d(in_channels=channels, out_channels=channels, kernel_size=(1,1)),\n",
    "      torch.nn.BatchNorm2d(channels),\n",
    "      torch.nn.ReLU(),\n",
    "    )\n",
    "\n",
    "    self.conv_bypass = torch.nn.Sequential(\n",
    "      torch.nn.Conv2d(in_channels=channels, out_channels=channels, kernel_size=(1,1)),\n",
    "      torch.nn.BatchNorm2d(channels),\n",
    "    )\n",
    "\n",
    "    self.act = torch.nn.ReLU()\n",
    "\n",
    "  def forward(self, x):\n",
    "    a = self.conv_stack(x)\n",
    "    b = self.conv_bypass(x)\n",
    "    return self.act(a + b)\n",
    "\n",
    "\n",
    "class CNN(torch.nn.Module):\n",
    "  def __init__(self):\n",
    "    super(CNN, self).__init__()\n",
    "\n",
    "    self.conv0_stack = torch.nn.Sequential(\n",
    "      torch.nn.Conv2d(in_channels=1, out_channels=64, kernel_size=(3,3), padding=(1,1)),\n",
    "      torch.nn.ReLU(),\n",
    "      torch.nn.Conv2d(in_channels=64, out_channels=64, kernel_size=(3,3), padding=(1,1)),\n",
    "      torch.nn.ReLU(),\n",
    "      torch.nn.MaxPool2d(kernel_size=(2,2), stride=2),\n",
    "      torch.nn.BatchNorm2d(64),\n",
    "      torch.nn.Conv2d(in_channels=64, out_channels=64, kernel_size=(3,3), padding=(1,1)),\n",
    "      torch.nn.ReLU(),\n",
    "      torch.nn.Conv2d(in_channels=64, out_channels=64, kernel_size=(3,3), padding=(1,1)),\n",
    "      torch.nn.ReLU(),\n",
    "      torch.nn.Conv2d(in_channels=64, out_channels=64, kernel_size=(3,3), padding=(1,1)),\n",
    "      torch.nn.ReLU(),\n",
    "      torch.nn.MaxPool2d(kernel_size=(2,2), stride=2),\n",
    "      torch.nn.BatchNorm2d(64),\n",
    "    )\n",
    "\n",
    "    self.flatten_stack = torch.nn.Flatten()\n",
    "\n",
    "    output_activation = torch.nn.Identity() if self.training else torch.nn.LogSoftmax()\n",
    "\n",
    "    self.fc_stack = torch.nn.Sequential(\n",
    "      torch.nn.Dropout(),\n",
    "      torch.nn.Linear(in_features=64*7*7, out_features=1028),\n",
    "      torch.nn.ReLU(),\n",
    "      torch.nn.Dropout(),\n",
    "      torch.nn.Linear(in_features=1028, out_features=1028),\n",
    "      torch.nn.ReLU(),\n",
    "      torch.nn.Dropout(),\n",
    "      torch.nn.Linear(in_features=1028, out_features=512),\n",
    "      torch.nn.ReLU(),\n",
    "      torch.nn.Dropout(),\n",
    "      torch.nn.Linear(in_features=512, out_features=10),\n",
    "      output_activation\n",
    "    )\n",
    "\n",
    "  def forward(self, x):\n",
    "    conv_y = self.conv0_stack(x)\n",
    "\n",
    "    return self.fc_stack(self.flatten_stack(conv_y))\n",
    "\n",
    "\n",
    "model = CNN().to(device)\n",
    "print(torchsummary.summary(model=model, input_size=(1,28,28), batch_size=128))"
   ]
  },
  {
   "cell_type": "markdown",
   "metadata": {},
   "source": [
    "Training"
   ]
  },
  {
   "cell_type": "code",
   "execution_count": 13,
   "metadata": {},
   "outputs": [
    {
     "data": {
      "application/vnd.jupyter.widget-view+json": {
       "model_id": "b35f7c3d8eed49a288435c9cd3b7fe0e",
       "version_major": 2,
       "version_minor": 0
      },
      "text/plain": [
       "Training Epochs:   0%|          | 0/15 [00:00<?, ?epoch/s]"
      ]
     },
     "metadata": {},
     "output_type": "display_data"
    },
    {
     "data": {
      "application/vnd.jupyter.widget-view+json": {
       "model_id": "cfff81187b684ecdb3922be7954f1bcd",
       "version_major": 2,
       "version_minor": 0
      },
      "text/plain": [
       "Epoch:   0%|          | 0/469 [00:00<?, ?batch/s]"
      ]
     },
     "metadata": {},
     "output_type": "display_data"
    },
    {
     "data": {
      "application/vnd.jupyter.widget-view+json": {
       "model_id": "833f248a7366499aa6076245aab84d1b",
       "version_major": 2,
       "version_minor": 0
      },
      "text/plain": [
       "Test:   0%|          | 0/79 [00:00<?, ?batch/s]"
      ]
     },
     "metadata": {},
     "output_type": "display_data"
    },
    {
     "data": {
      "application/vnd.jupyter.widget-view+json": {
       "model_id": "aed20a07243f4771abb8fc7181e200d2",
       "version_major": 2,
       "version_minor": 0
      },
      "text/plain": [
       "Epoch:   0%|          | 0/469 [00:00<?, ?batch/s]"
      ]
     },
     "metadata": {},
     "output_type": "display_data"
    },
    {
     "data": {
      "application/vnd.jupyter.widget-view+json": {
       "model_id": "1ec637eeb4824788851e527dcc6767ba",
       "version_major": 2,
       "version_minor": 0
      },
      "text/plain": [
       "Test:   0%|          | 0/79 [00:00<?, ?batch/s]"
      ]
     },
     "metadata": {},
     "output_type": "display_data"
    },
    {
     "data": {
      "application/vnd.jupyter.widget-view+json": {
       "model_id": "bb0d49052b2e47dab616aa463696090d",
       "version_major": 2,
       "version_minor": 0
      },
      "text/plain": [
       "Epoch:   0%|          | 0/469 [00:00<?, ?batch/s]"
      ]
     },
     "metadata": {},
     "output_type": "display_data"
    },
    {
     "data": {
      "application/vnd.jupyter.widget-view+json": {
       "model_id": "555a6cb067274f3c85dd37c445bbca15",
       "version_major": 2,
       "version_minor": 0
      },
      "text/plain": [
       "Test:   0%|          | 0/79 [00:00<?, ?batch/s]"
      ]
     },
     "metadata": {},
     "output_type": "display_data"
    },
    {
     "data": {
      "application/vnd.jupyter.widget-view+json": {
       "model_id": "ba54546165a14ebeadba9c3105d22b12",
       "version_major": 2,
       "version_minor": 0
      },
      "text/plain": [
       "Epoch:   0%|          | 0/469 [00:00<?, ?batch/s]"
      ]
     },
     "metadata": {},
     "output_type": "display_data"
    },
    {
     "data": {
      "application/vnd.jupyter.widget-view+json": {
       "model_id": "30854551fd284a57bbde09e20d9684fe",
       "version_major": 2,
       "version_minor": 0
      },
      "text/plain": [
       "Test:   0%|          | 0/79 [00:00<?, ?batch/s]"
      ]
     },
     "metadata": {},
     "output_type": "display_data"
    },
    {
     "data": {
      "application/vnd.jupyter.widget-view+json": {
       "model_id": "2928a2c24a814706aad6bddbc5ba939e",
       "version_major": 2,
       "version_minor": 0
      },
      "text/plain": [
       "Epoch:   0%|          | 0/469 [00:00<?, ?batch/s]"
      ]
     },
     "metadata": {},
     "output_type": "display_data"
    },
    {
     "data": {
      "application/vnd.jupyter.widget-view+json": {
       "model_id": "74c38d9895c24065bc1fbe714d2013d9",
       "version_major": 2,
       "version_minor": 0
      },
      "text/plain": [
       "Test:   0%|          | 0/79 [00:00<?, ?batch/s]"
      ]
     },
     "metadata": {},
     "output_type": "display_data"
    },
    {
     "data": {
      "application/vnd.jupyter.widget-view+json": {
       "model_id": "d707ca54c7e241678a7202023c0e6923",
       "version_major": 2,
       "version_minor": 0
      },
      "text/plain": [
       "Epoch:   0%|          | 0/469 [00:00<?, ?batch/s]"
      ]
     },
     "metadata": {},
     "output_type": "display_data"
    },
    {
     "data": {
      "application/vnd.jupyter.widget-view+json": {
       "model_id": "90e8d7a868c44203ac3ce915db8fd910",
       "version_major": 2,
       "version_minor": 0
      },
      "text/plain": [
       "Test:   0%|          | 0/79 [00:00<?, ?batch/s]"
      ]
     },
     "metadata": {},
     "output_type": "display_data"
    },
    {
     "data": {
      "application/vnd.jupyter.widget-view+json": {
       "model_id": "a5949a7458754fa8ad9c0962f428a6df",
       "version_major": 2,
       "version_minor": 0
      },
      "text/plain": [
       "Epoch:   0%|          | 0/469 [00:00<?, ?batch/s]"
      ]
     },
     "metadata": {},
     "output_type": "display_data"
    },
    {
     "data": {
      "application/vnd.jupyter.widget-view+json": {
       "model_id": "f1a4bea000144cbe9dfffdb7896a4564",
       "version_major": 2,
       "version_minor": 0
      },
      "text/plain": [
       "Test:   0%|          | 0/79 [00:00<?, ?batch/s]"
      ]
     },
     "metadata": {},
     "output_type": "display_data"
    },
    {
     "data": {
      "application/vnd.jupyter.widget-view+json": {
       "model_id": "efa94917bb9e40f582734ba78f22914b",
       "version_major": 2,
       "version_minor": 0
      },
      "text/plain": [
       "Epoch:   0%|          | 0/469 [00:00<?, ?batch/s]"
      ]
     },
     "metadata": {},
     "output_type": "display_data"
    },
    {
     "data": {
      "application/vnd.jupyter.widget-view+json": {
       "model_id": "5c4b54dfb62c466888b1cb05ced18d65",
       "version_major": 2,
       "version_minor": 0
      },
      "text/plain": [
       "Test:   0%|          | 0/79 [00:00<?, ?batch/s]"
      ]
     },
     "metadata": {},
     "output_type": "display_data"
    },
    {
     "data": {
      "application/vnd.jupyter.widget-view+json": {
       "model_id": "04ef2e146c5848bea3fe66a306329706",
       "version_major": 2,
       "version_minor": 0
      },
      "text/plain": [
       "Epoch:   0%|          | 0/469 [00:00<?, ?batch/s]"
      ]
     },
     "metadata": {},
     "output_type": "display_data"
    },
    {
     "data": {
      "application/vnd.jupyter.widget-view+json": {
       "model_id": "55bdaf7a1c1449ce94bca2df81126ce4",
       "version_major": 2,
       "version_minor": 0
      },
      "text/plain": [
       "Test:   0%|          | 0/79 [00:00<?, ?batch/s]"
      ]
     },
     "metadata": {},
     "output_type": "display_data"
    },
    {
     "data": {
      "application/vnd.jupyter.widget-view+json": {
       "model_id": "9a2385350620457c97b6759319ee0089",
       "version_major": 2,
       "version_minor": 0
      },
      "text/plain": [
       "Epoch:   0%|          | 0/469 [00:00<?, ?batch/s]"
      ]
     },
     "metadata": {},
     "output_type": "display_data"
    },
    {
     "data": {
      "application/vnd.jupyter.widget-view+json": {
       "model_id": "c40844a966574ebbb240024c6e555818",
       "version_major": 2,
       "version_minor": 0
      },
      "text/plain": [
       "Test:   0%|          | 0/79 [00:00<?, ?batch/s]"
      ]
     },
     "metadata": {},
     "output_type": "display_data"
    },
    {
     "data": {
      "application/vnd.jupyter.widget-view+json": {
       "model_id": "fc15480ed1de4a069a340ae8b8f648fb",
       "version_major": 2,
       "version_minor": 0
      },
      "text/plain": [
       "Epoch:   0%|          | 0/469 [00:00<?, ?batch/s]"
      ]
     },
     "metadata": {},
     "output_type": "display_data"
    },
    {
     "data": {
      "application/vnd.jupyter.widget-view+json": {
       "model_id": "c3e78456f096430cb4ccdb2cd8e3c3b0",
       "version_major": 2,
       "version_minor": 0
      },
      "text/plain": [
       "Test:   0%|          | 0/79 [00:00<?, ?batch/s]"
      ]
     },
     "metadata": {},
     "output_type": "display_data"
    },
    {
     "data": {
      "application/vnd.jupyter.widget-view+json": {
       "model_id": "59361fbfe64c41d3a018c3de271064eb",
       "version_major": 2,
       "version_minor": 0
      },
      "text/plain": [
       "Epoch:   0%|          | 0/469 [00:00<?, ?batch/s]"
      ]
     },
     "metadata": {},
     "output_type": "display_data"
    },
    {
     "data": {
      "application/vnd.jupyter.widget-view+json": {
       "model_id": "4da7d200e848438da915ff4acbfbe8ed",
       "version_major": 2,
       "version_minor": 0
      },
      "text/plain": [
       "Test:   0%|          | 0/79 [00:00<?, ?batch/s]"
      ]
     },
     "metadata": {},
     "output_type": "display_data"
    },
    {
     "data": {
      "application/vnd.jupyter.widget-view+json": {
       "model_id": "5150ca9c280a4893926aefc782d7105c",
       "version_major": 2,
       "version_minor": 0
      },
      "text/plain": [
       "Epoch:   0%|          | 0/469 [00:00<?, ?batch/s]"
      ]
     },
     "metadata": {},
     "output_type": "display_data"
    },
    {
     "data": {
      "application/vnd.jupyter.widget-view+json": {
       "model_id": "2ef134db8ace460cb2ca2ee624c0ac7c",
       "version_major": 2,
       "version_minor": 0
      },
      "text/plain": [
       "Test:   0%|          | 0/79 [00:00<?, ?batch/s]"
      ]
     },
     "metadata": {},
     "output_type": "display_data"
    },
    {
     "data": {
      "application/vnd.jupyter.widget-view+json": {
       "model_id": "91fb0d8901544b87b2fdafe6802d6bf3",
       "version_major": 2,
       "version_minor": 0
      },
      "text/plain": [
       "Epoch:   0%|          | 0/469 [00:00<?, ?batch/s]"
      ]
     },
     "metadata": {},
     "output_type": "display_data"
    },
    {
     "data": {
      "application/vnd.jupyter.widget-view+json": {
       "model_id": "2fee8aa47e814f8888b523ffecfb4383",
       "version_major": 2,
       "version_minor": 0
      },
      "text/plain": [
       "Test:   0%|          | 0/79 [00:00<?, ?batch/s]"
      ]
     },
     "metadata": {},
     "output_type": "display_data"
    },
    {
     "data": {
      "application/vnd.jupyter.widget-view+json": {
       "model_id": "b240e04ea4594fda94d33bc2ac79487a",
       "version_major": 2,
       "version_minor": 0
      },
      "text/plain": [
       "Epoch:   0%|          | 0/469 [00:00<?, ?batch/s]"
      ]
     },
     "metadata": {},
     "output_type": "display_data"
    },
    {
     "data": {
      "application/vnd.jupyter.widget-view+json": {
       "model_id": "252d37efdb86498a85969d9caa0dc128",
       "version_major": 2,
       "version_minor": 0
      },
      "text/plain": [
       "Test:   0%|          | 0/79 [00:00<?, ?batch/s]"
      ]
     },
     "metadata": {},
     "output_type": "display_data"
    }
   ],
   "source": [
    "from torch.utils.tensorboard import SummaryWriter\n",
    "import torch.nn.functional as F\n",
    "from tqdm.notebook import tqdm\n",
    "from src.common.eval import evalLabelProbability\n",
    "from src.common.plot import plotImagesProb\n",
    "from src.common.dataset import selectRandomBatch\n",
    "\n",
    "\n",
    "train_loader = torch.utils.data.DataLoader(train_data, batch_size=128, shuffle=True)\n",
    "test_loader = torch.utils.data.DataLoader(test_data, batch_size=128)\n",
    "\n",
    "optimizer = torch.optim.Adam(model.parameters())\n",
    "loss_function = torch.nn.CrossEntropyLoss()\n",
    "\n",
    "writer = SummaryWriter()\n",
    "\n",
    "def trainEpoch():\n",
    "  epoch_loss, epoch_acc = 0, 0\n",
    "\n",
    "  with tqdm(train_loader, desc=\"Epoch\", unit=\"batch\", position=1, leave=False) as bar:\n",
    "    for X, y in bar:\n",
    "      X = X.to(device)\n",
    "      y = y.to(device)\n",
    "      pred = model(X)\n",
    "      loss = loss_function(pred, y)\n",
    "      epoch_loss += loss.item()\n",
    "      epoch_acc += (pred.argmax(1) == y).type(torch.float).sum().item()\n",
    "      optimizer.zero_grad()\n",
    "      loss.backward()\n",
    "      optimizer.step()\n",
    "\n",
    "  return epoch_loss / len(train_loader.dataset), epoch_acc / len(train_loader.dataset)\n",
    "\n",
    "\n",
    "def evalEpoch():\n",
    "  epoch_loss, epoch_acc = 0, 0\n",
    "  class_labels, class_probs = [], []\n",
    "\n",
    "  with torch.no_grad():\n",
    "    for X, y in tqdm(test_loader, desc=\"Test\", unit=\"batch\", position=1, leave=False):\n",
    "      X = X.to(device)\n",
    "      y = y.to(device)\n",
    "      pred = model(X)\n",
    "      class_probs.append([F.softmax(sample, dim=0) for sample in pred])\n",
    "      class_labels.append(y)\n",
    "      epoch_loss += loss_function(pred, y)\n",
    "      epoch_acc += (pred.argmax(1) == y).type(torch.float).sum().item()\n",
    "\n",
    "  test_probs = torch.cat([torch.stack(batch) for batch in class_probs])\n",
    "  test_labels = torch.cat(class_labels)\n",
    "  return epoch_loss / len(test_loader.dataset), epoch_acc / len(test_loader.dataset), test_probs, test_labels\n",
    "\n",
    "writer.add_graph(model, next(iter(test_loader))[0].to(device))\n",
    "\n",
    "with tqdm(range(1,16), desc=\"Training Epochs\", unit=\"epoch\", position=0) as bar:\n",
    "  for i in bar:\n",
    "    train_loss, train_acc = trainEpoch()\n",
    "    test_loss, test_acc, test_probs, test_labels = evalEpoch()\n",
    "    writer.add_scalars(\"Loss\", {'train_loss': train_loss, 'test_loss' : test_loss}, i)\n",
    "    writer.add_scalars(\"Accuracy\", {'train_acc': train_acc, 'test_acc' : test_acc}, i)\n",
    "\n",
    "    plot_images, plot_labels = next(iter(test_loader))\n",
    "    writer.add_figure(\"Random Sample Predictions\", plotImagesProb(model,\n",
    "                                                                  plot_images[:5].to(device),\n",
    "                                                                  plot_labels[:5].to(device),\n",
    "                                                                  labels_map), i)\n",
    "\n",
    "    for c_i in range(10):\n",
    "      labels = test_labels == c_i\n",
    "      probs = test_probs[:, c_i]\n",
    "      writer.add_pr_curve(labels_map[c_i], labels, probs, i)\n",
    "\n",
    "\n",
    "    bar.set_postfix_str(f\"TrainLoss={train_loss:.03e} TestAcc={test_acc*100:.02f}%\")\n",
    "\n",
    "writer.close()"
   ]
  }
 ],
 "metadata": {
  "kernelspec": {
   "display_name": "Python 3.9.13 ('.venv': venv)",
   "language": "python",
   "name": "python3"
  },
  "language_info": {
   "codemirror_mode": {
    "name": "ipython",
    "version": 3
   },
   "file_extension": ".py",
   "mimetype": "text/x-python",
   "name": "python",
   "nbconvert_exporter": "python",
   "pygments_lexer": "ipython3",
   "version": "3.9.13"
  },
  "orig_nbformat": 4,
  "vscode": {
   "interpreter": {
    "hash": "567ae071c75367e37bfff5d1256f78da7aa8d028ef6660edf1fede432799cc03"
   }
  }
 },
 "nbformat": 4,
 "nbformat_minor": 2
}
